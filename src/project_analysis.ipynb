{
 "cells": [
  {
   "cell_type": "code",
   "execution_count": 1,
   "metadata": {
    "pycharm": {
     "name": "#%%\n"
    }
   },
   "outputs": [],
   "source": [
    "import numpy as np\n",
    "import pandas as pd\n",
    "import matplotlib.pyplot as plt\n",
    "import calendar"
   ]
  },
  {
   "cell_type": "code",
   "execution_count": 2,
   "metadata": {
    "pycharm": {
     "name": "#%%\n"
    }
   },
   "outputs": [],
   "source": [
    "mask = pd.read_csv(\"../raw_data/mask-use-by-county.csv\")\n",
    "cases = pd.read_csv(\"../raw_data/RAW_us_confirmed_cases.csv\")\n",
    "mandate = pd.read_csv(\"../raw_data/U.S._State_and_Territorial_Public_Mask_Mandates_From_April_10__2020_through_August_15__2021_by_County_by_Day.csv\")"
   ]
  },
  {
   "cell_type": "markdown",
   "metadata": {},
   "source": [
    "### I will find when mask mandate started in Bernalillo County, NM. Mask mandate did not change in Bernalillo County since it came out. "
   ]
  },
  {
   "cell_type": "code",
   "execution_count": 3,
   "metadata": {
    "pycharm": {
     "name": "#%%\n"
    }
   },
   "outputs": [
    {
     "data": {
      "text/html": [
       "<div>\n",
       "<style scoped>\n",
       "    .dataframe tbody tr th:only-of-type {\n",
       "        vertical-align: middle;\n",
       "    }\n",
       "\n",
       "    .dataframe tbody tr th {\n",
       "        vertical-align: top;\n",
       "    }\n",
       "\n",
       "    .dataframe thead th {\n",
       "        text-align: right;\n",
       "    }\n",
       "</style>\n",
       "<table border=\"1\" class=\"dataframe\">\n",
       "  <thead>\n",
       "    <tr style=\"text-align: right;\">\n",
       "      <th></th>\n",
       "      <th>State_Tribe_Territory</th>\n",
       "      <th>County_Name</th>\n",
       "      <th>FIPS_State</th>\n",
       "      <th>FIPS_County</th>\n",
       "      <th>date</th>\n",
       "      <th>order_code</th>\n",
       "      <th>Face_Masks_Required_in_Public</th>\n",
       "      <th>Source_of_Action</th>\n",
       "      <th>URL</th>\n",
       "      <th>Citation</th>\n",
       "    </tr>\n",
       "  </thead>\n",
       "  <tbody>\n",
       "    <tr>\n",
       "      <th>472550</th>\n",
       "      <td>NM</td>\n",
       "      <td>Bernalillo County</td>\n",
       "      <td>35</td>\n",
       "      <td>1</td>\n",
       "      <td>4/20/2020</td>\n",
       "      <td>2</td>\n",
       "      <td>NaN</td>\n",
       "      <td>NaN</td>\n",
       "      <td>NaN</td>\n",
       "      <td>NaN</td>\n",
       "    </tr>\n",
       "    <tr>\n",
       "      <th>472589</th>\n",
       "      <td>NM</td>\n",
       "      <td>Bernalillo County</td>\n",
       "      <td>35</td>\n",
       "      <td>1</td>\n",
       "      <td>4/21/2020</td>\n",
       "      <td>2</td>\n",
       "      <td>NaN</td>\n",
       "      <td>NaN</td>\n",
       "      <td>NaN</td>\n",
       "      <td>NaN</td>\n",
       "    </tr>\n",
       "    <tr>\n",
       "      <th>472983</th>\n",
       "      <td>NM</td>\n",
       "      <td>Bernalillo County</td>\n",
       "      <td>35</td>\n",
       "      <td>1</td>\n",
       "      <td>4/22/2020</td>\n",
       "      <td>2</td>\n",
       "      <td>NaN</td>\n",
       "      <td>NaN</td>\n",
       "      <td>NaN</td>\n",
       "      <td>NaN</td>\n",
       "    </tr>\n",
       "    <tr>\n",
       "      <th>473220</th>\n",
       "      <td>NM</td>\n",
       "      <td>Bernalillo County</td>\n",
       "      <td>35</td>\n",
       "      <td>1</td>\n",
       "      <td>4/23/2020</td>\n",
       "      <td>2</td>\n",
       "      <td>NaN</td>\n",
       "      <td>NaN</td>\n",
       "      <td>NaN</td>\n",
       "      <td>NaN</td>\n",
       "    </tr>\n",
       "    <tr>\n",
       "      <th>473335</th>\n",
       "      <td>NM</td>\n",
       "      <td>Bernalillo County</td>\n",
       "      <td>35</td>\n",
       "      <td>1</td>\n",
       "      <td>4/24/2020</td>\n",
       "      <td>2</td>\n",
       "      <td>NaN</td>\n",
       "      <td>NaN</td>\n",
       "      <td>NaN</td>\n",
       "      <td>NaN</td>\n",
       "    </tr>\n",
       "    <tr>\n",
       "      <th>...</th>\n",
       "      <td>...</td>\n",
       "      <td>...</td>\n",
       "      <td>...</td>\n",
       "      <td>...</td>\n",
       "      <td>...</td>\n",
       "      <td>...</td>\n",
       "      <td>...</td>\n",
       "      <td>...</td>\n",
       "      <td>...</td>\n",
       "      <td>...</td>\n",
       "    </tr>\n",
       "    <tr>\n",
       "      <th>1267665</th>\n",
       "      <td>NM</td>\n",
       "      <td>Bernalillo County</td>\n",
       "      <td>35</td>\n",
       "      <td>1</td>\n",
       "      <td>8/11/2021</td>\n",
       "      <td>1</td>\n",
       "      <td>Yes</td>\n",
       "      <td>Official</td>\n",
       "      <td>NaN</td>\n",
       "      <td>N.M. Health Order (July 30, 2021)</td>\n",
       "    </tr>\n",
       "    <tr>\n",
       "      <th>1267666</th>\n",
       "      <td>NM</td>\n",
       "      <td>Bernalillo County</td>\n",
       "      <td>35</td>\n",
       "      <td>1</td>\n",
       "      <td>8/12/2021</td>\n",
       "      <td>1</td>\n",
       "      <td>Yes</td>\n",
       "      <td>Official</td>\n",
       "      <td>NaN</td>\n",
       "      <td>N.M. Health Order (July 30, 2021)</td>\n",
       "    </tr>\n",
       "    <tr>\n",
       "      <th>1267667</th>\n",
       "      <td>NM</td>\n",
       "      <td>Bernalillo County</td>\n",
       "      <td>35</td>\n",
       "      <td>1</td>\n",
       "      <td>8/13/2021</td>\n",
       "      <td>1</td>\n",
       "      <td>Yes</td>\n",
       "      <td>Official</td>\n",
       "      <td>NaN</td>\n",
       "      <td>N.M. Health Order (July 30, 2021)</td>\n",
       "    </tr>\n",
       "    <tr>\n",
       "      <th>1267668</th>\n",
       "      <td>NM</td>\n",
       "      <td>Bernalillo County</td>\n",
       "      <td>35</td>\n",
       "      <td>1</td>\n",
       "      <td>8/14/2021</td>\n",
       "      <td>1</td>\n",
       "      <td>Yes</td>\n",
       "      <td>Official</td>\n",
       "      <td>NaN</td>\n",
       "      <td>N.M. Health Order (July 30, 2021)</td>\n",
       "    </tr>\n",
       "    <tr>\n",
       "      <th>1267669</th>\n",
       "      <td>NM</td>\n",
       "      <td>Bernalillo County</td>\n",
       "      <td>35</td>\n",
       "      <td>1</td>\n",
       "      <td>8/15/2021</td>\n",
       "      <td>1</td>\n",
       "      <td>Yes</td>\n",
       "      <td>Official</td>\n",
       "      <td>NaN</td>\n",
       "      <td>N.M. Health Order (July 30, 2021)</td>\n",
       "    </tr>\n",
       "  </tbody>\n",
       "</table>\n",
       "<p>493 rows × 10 columns</p>\n",
       "</div>"
      ],
      "text/plain": [
       "        State_Tribe_Territory        County_Name  FIPS_State  FIPS_County  \\\n",
       "472550                     NM  Bernalillo County          35            1   \n",
       "472589                     NM  Bernalillo County          35            1   \n",
       "472983                     NM  Bernalillo County          35            1   \n",
       "473220                     NM  Bernalillo County          35            1   \n",
       "473335                     NM  Bernalillo County          35            1   \n",
       "...                       ...                ...         ...          ...   \n",
       "1267665                    NM  Bernalillo County          35            1   \n",
       "1267666                    NM  Bernalillo County          35            1   \n",
       "1267667                    NM  Bernalillo County          35            1   \n",
       "1267668                    NM  Bernalillo County          35            1   \n",
       "1267669                    NM  Bernalillo County          35            1   \n",
       "\n",
       "              date  order_code Face_Masks_Required_in_Public Source_of_Action  \\\n",
       "472550   4/20/2020           2                           NaN              NaN   \n",
       "472589   4/21/2020           2                           NaN              NaN   \n",
       "472983   4/22/2020           2                           NaN              NaN   \n",
       "473220   4/23/2020           2                           NaN              NaN   \n",
       "473335   4/24/2020           2                           NaN              NaN   \n",
       "...            ...         ...                           ...              ...   \n",
       "1267665  8/11/2021           1                           Yes         Official   \n",
       "1267666  8/12/2021           1                           Yes         Official   \n",
       "1267667  8/13/2021           1                           Yes         Official   \n",
       "1267668  8/14/2021           1                           Yes         Official   \n",
       "1267669  8/15/2021           1                           Yes         Official   \n",
       "\n",
       "         URL                           Citation  \n",
       "472550   NaN                                NaN  \n",
       "472589   NaN                                NaN  \n",
       "472983   NaN                                NaN  \n",
       "473220   NaN                                NaN  \n",
       "473335   NaN                                NaN  \n",
       "...      ...                                ...  \n",
       "1267665  NaN  N.M. Health Order (July 30, 2021)  \n",
       "1267666  NaN  N.M. Health Order (July 30, 2021)  \n",
       "1267667  NaN  N.M. Health Order (July 30, 2021)  \n",
       "1267668  NaN  N.M. Health Order (July 30, 2021)  \n",
       "1267669  NaN  N.M. Health Order (July 30, 2021)  \n",
       "\n",
       "[493 rows x 10 columns]"
      ]
     },
     "execution_count": 3,
     "metadata": {},
     "output_type": "execute_result"
    }
   ],
   "source": [
    "mandate = mandate[(mandate['County_Name'] == 'Bernalillo County') & (mandate['State_Tribe_Territory'] == \"NM\")]\n",
    "mandate"
   ]
  },
  {
   "cell_type": "code",
   "execution_count": 4,
   "metadata": {
    "pycharm": {
     "name": "#%%\n"
    }
   },
   "outputs": [
    {
     "data": {
      "text/plain": [
       "'5/15/2020'"
      ]
     },
     "execution_count": 4,
     "metadata": {},
     "output_type": "execute_result"
    }
   ],
   "source": [
    "mandate_date = mandate[mandate.Face_Masks_Required_in_Public == \"Yes\"][\"date\"].iloc[0]\n",
    "mandate_date"
   ]
  },
  {
   "cell_type": "markdown",
   "metadata": {},
   "source": [
    "### I find the covid total cases that pertains to Bernalillo County, NM."
   ]
  },
  {
   "cell_type": "code",
   "execution_count": 5,
   "metadata": {
    "pycharm": {
     "name": "#%%\n"
    }
   },
   "outputs": [
    {
     "data": {
      "text/html": [
       "<div>\n",
       "<style scoped>\n",
       "    .dataframe tbody tr th:only-of-type {\n",
       "        vertical-align: middle;\n",
       "    }\n",
       "\n",
       "    .dataframe tbody tr th {\n",
       "        vertical-align: top;\n",
       "    }\n",
       "\n",
       "    .dataframe thead th {\n",
       "        text-align: right;\n",
       "    }\n",
       "</style>\n",
       "<table border=\"1\" class=\"dataframe\">\n",
       "  <thead>\n",
       "    <tr style=\"text-align: right;\">\n",
       "      <th></th>\n",
       "      <th>Province_State</th>\n",
       "      <th>Admin2</th>\n",
       "      <th>UID</th>\n",
       "      <th>iso2</th>\n",
       "      <th>iso3</th>\n",
       "      <th>code3</th>\n",
       "      <th>FIPS</th>\n",
       "      <th>Country_Region</th>\n",
       "      <th>Lat</th>\n",
       "      <th>Long_</th>\n",
       "      <th>...</th>\n",
       "      <th>10/18/21</th>\n",
       "      <th>10/19/21</th>\n",
       "      <th>10/20/21</th>\n",
       "      <th>10/21/21</th>\n",
       "      <th>10/22/21</th>\n",
       "      <th>10/23/21</th>\n",
       "      <th>10/24/21</th>\n",
       "      <th>10/25/21</th>\n",
       "      <th>10/26/21</th>\n",
       "      <th>10/27/21</th>\n",
       "    </tr>\n",
       "  </thead>\n",
       "  <tbody>\n",
       "    <tr>\n",
       "      <th>1867</th>\n",
       "      <td>New Mexico</td>\n",
       "      <td>Bernalillo</td>\n",
       "      <td>84035001</td>\n",
       "      <td>US</td>\n",
       "      <td>USA</td>\n",
       "      <td>840</td>\n",
       "      <td>35001.0</td>\n",
       "      <td>US</td>\n",
       "      <td>35.051636</td>\n",
       "      <td>-106.670355</td>\n",
       "      <td>...</td>\n",
       "      <td>74239</td>\n",
       "      <td>74408</td>\n",
       "      <td>74523</td>\n",
       "      <td>74806</td>\n",
       "      <td>75035</td>\n",
       "      <td>75035</td>\n",
       "      <td>75035</td>\n",
       "      <td>75623</td>\n",
       "      <td>75770</td>\n",
       "      <td>75987</td>\n",
       "    </tr>\n",
       "  </tbody>\n",
       "</table>\n",
       "<p>1 rows × 656 columns</p>\n",
       "</div>"
      ],
      "text/plain": [
       "     Province_State      Admin2       UID iso2 iso3  code3     FIPS  \\\n",
       "1867     New Mexico  Bernalillo  84035001   US  USA    840  35001.0   \n",
       "\n",
       "     Country_Region        Lat       Long_  ... 10/18/21  10/19/21  10/20/21  \\\n",
       "1867             US  35.051636 -106.670355  ...    74239     74408     74523   \n",
       "\n",
       "      10/21/21  10/22/21  10/23/21  10/24/21  10/25/21  10/26/21  10/27/21  \n",
       "1867     74806     75035     75035     75035     75623     75770     75987  \n",
       "\n",
       "[1 rows x 656 columns]"
      ]
     },
     "execution_count": 5,
     "metadata": {},
     "output_type": "execute_result"
    }
   ],
   "source": [
    "cases = cases[(cases.Admin2 == \"Bernalillo\") & (cases.Province_State == \"New Mexico\")]\n",
    "cases"
   ]
  },
  {
   "cell_type": "markdown",
   "metadata": {},
   "source": [
    "### I find the mask compliance data that pertains to Bernalillo County, NM."
   ]
  },
  {
   "cell_type": "code",
   "execution_count": 6,
   "metadata": {
    "pycharm": {
     "name": "#%%\n"
    }
   },
   "outputs": [
    {
     "data": {
      "text/html": [
       "<div>\n",
       "<style scoped>\n",
       "    .dataframe tbody tr th:only-of-type {\n",
       "        vertical-align: middle;\n",
       "    }\n",
       "\n",
       "    .dataframe tbody tr th {\n",
       "        vertical-align: top;\n",
       "    }\n",
       "\n",
       "    .dataframe thead th {\n",
       "        text-align: right;\n",
       "    }\n",
       "</style>\n",
       "<table border=\"1\" class=\"dataframe\">\n",
       "  <thead>\n",
       "    <tr style=\"text-align: right;\">\n",
       "      <th></th>\n",
       "      <th>COUNTYFP</th>\n",
       "      <th>NEVER</th>\n",
       "      <th>RARELY</th>\n",
       "      <th>SOMETIMES</th>\n",
       "      <th>FREQUENTLY</th>\n",
       "      <th>ALWAYS</th>\n",
       "    </tr>\n",
       "  </thead>\n",
       "  <tbody>\n",
       "    <tr>\n",
       "      <th>1795</th>\n",
       "      <td>35001</td>\n",
       "      <td>0.036</td>\n",
       "      <td>0.014</td>\n",
       "      <td>0.057</td>\n",
       "      <td>0.135</td>\n",
       "      <td>0.758</td>\n",
       "    </tr>\n",
       "  </tbody>\n",
       "</table>\n",
       "</div>"
      ],
      "text/plain": [
       "      COUNTYFP  NEVER  RARELY  SOMETIMES  FREQUENTLY  ALWAYS\n",
       "1795     35001  0.036   0.014      0.057       0.135   0.758"
      ]
     },
     "execution_count": 6,
     "metadata": {},
     "output_type": "execute_result"
    }
   ],
   "source": [
    "mask = mask[mask.COUNTYFP == 35001]\n",
    "mask"
   ]
  },
  {
   "cell_type": "markdown",
   "metadata": {},
   "source": [
    "### Now we will pivot the total cases table. As the reporting spikes on Mondays and ebbs on Sundays due to reporting practices, I will smooth the total case numbers using a rolling window function and find the mean of the 7 day average.\n",
    "### Also, I will calculate the difference between consecutive days to find the new cases for each day. As a result of the smoothing function, new cases will now also be smoother."
   ]
  },
  {
   "cell_type": "code",
   "execution_count": 7,
   "metadata": {
    "pycharm": {
     "name": "#%%\n"
    }
   },
   "outputs": [],
   "source": [
    "total_cases = cases.T.iloc[11:]"
   ]
  },
  {
   "cell_type": "code",
   "execution_count": 8,
   "metadata": {
    "pycharm": {
     "name": "#%%\n"
    }
   },
   "outputs": [],
   "source": [
    "total_cases = total_cases.rename(columns = {1867:\"covid_cases\"})"
   ]
  },
  {
   "cell_type": "code",
   "execution_count": 9,
   "metadata": {
    "pycharm": {
     "name": "#%%\n"
    }
   },
   "outputs": [
    {
     "data": {
      "text/plain": [
       "2/1/20        0.0\n",
       "2/2/20        0.0\n",
       "2/3/20        0.0\n",
       "2/4/20        0.0\n",
       "2/5/20        0.0\n",
       "            ...  \n",
       "10/11/21    116.0\n",
       "10/12/21    168.0\n",
       "10/13/21    166.0\n",
       "10/14/21    163.0\n",
       "10/15/21    156.0\n",
       "Name: covid_cases, Length: 623, dtype: float64"
      ]
     },
     "execution_count": 9,
     "metadata": {},
     "output_type": "execute_result"
    }
   ],
   "source": [
    "total_cases = total_cases.rolling(window=7).mean().round()\n",
    "smoothed_new_cases = total_cases[\"covid_cases\"].diff()\n",
    "smoothed_new_cases = smoothed_new_cases['2/1/20':'10/15/21']\n",
    "smoothed_new_cases"
   ]
  },
  {
   "cell_type": "markdown",
   "metadata": {},
   "source": [
    "### I assume that covid has a 10-day infection window. Therefore, I sum up the new cases for a 10 day window."
   ]
  },
  {
   "cell_type": "code",
   "execution_count": 10,
   "metadata": {},
   "outputs": [],
   "source": [
    "ten_day_new = smoothed_new_cases.rolling(window=10).sum()"
   ]
  },
  {
   "cell_type": "markdown",
   "metadata": {},
   "source": [
    "### According to [Wikipedia](https://en.wikipedia.org/wiki/Infection_rate),  infection rate = $\\dfrac{the\\ number\\ of\\ infections}{the\\ number\\ of\\ those\\ at\\ risk\\ of\\ infection}$\n",
    "\n",
    "### I will calculate the denominator using the total number of population minus the number of people who already had covid."
   ]
  },
  {
   "cell_type": "code",
   "execution_count": 11,
   "metadata": {
    "pycharm": {
     "name": "#%%\n"
    }
   },
   "outputs": [],
   "source": [
    "population = 679121 #https://en.wikipedia.org/wiki/Bernalillo_County,_New_Mexico"
   ]
  },
  {
   "cell_type": "code",
   "execution_count": 12,
   "metadata": {
    "pycharm": {
     "name": "#%%\n"
    }
   },
   "outputs": [],
   "source": [
    "total_cases[\"at_risk_population\"] = np.repeat(population, len(total_cases)) - total_cases[\"covid_cases\"]"
   ]
  },
  {
   "cell_type": "code",
   "execution_count": 13,
   "metadata": {
    "pycharm": {
     "name": "#%%\n"
    }
   },
   "outputs": [],
   "source": [
    "total_cases[\"infection_rate\"] = ten_day_new / total_cases.at_risk_population\n",
    "total_cases = total_cases.reset_index()"
   ]
  },
  {
   "cell_type": "code",
   "execution_count": 14,
   "metadata": {
    "pycharm": {
     "name": "#%%\n"
    }
   },
   "outputs": [],
   "source": [
    "total_cases[\"date\"] = total_cases[\"index\"]\n",
    "total_cases[\"date\"] = pd.to_datetime(total_cases.date)"
   ]
  },
  {
   "cell_type": "code",
   "execution_count": 15,
   "metadata": {},
   "outputs": [
    {
     "data": {
      "text/html": [
       "<div>\n",
       "<style scoped>\n",
       "    .dataframe tbody tr th:only-of-type {\n",
       "        vertical-align: middle;\n",
       "    }\n",
       "\n",
       "    .dataframe tbody tr th {\n",
       "        vertical-align: top;\n",
       "    }\n",
       "\n",
       "    .dataframe thead th {\n",
       "        text-align: right;\n",
       "    }\n",
       "</style>\n",
       "<table border=\"1\" class=\"dataframe\">\n",
       "  <thead>\n",
       "    <tr style=\"text-align: right;\">\n",
       "      <th></th>\n",
       "      <th>index</th>\n",
       "      <th>covid_cases</th>\n",
       "      <th>at_risk_population</th>\n",
       "      <th>infection_rate</th>\n",
       "      <th>date</th>\n",
       "    </tr>\n",
       "  </thead>\n",
       "  <tbody>\n",
       "    <tr>\n",
       "      <th>0</th>\n",
       "      <td>1/22/20</td>\n",
       "      <td>NaN</td>\n",
       "      <td>NaN</td>\n",
       "      <td>NaN</td>\n",
       "      <td>2020-01-22</td>\n",
       "    </tr>\n",
       "    <tr>\n",
       "      <th>1</th>\n",
       "      <td>1/23/20</td>\n",
       "      <td>NaN</td>\n",
       "      <td>NaN</td>\n",
       "      <td>NaN</td>\n",
       "      <td>2020-01-23</td>\n",
       "    </tr>\n",
       "    <tr>\n",
       "      <th>2</th>\n",
       "      <td>1/24/20</td>\n",
       "      <td>NaN</td>\n",
       "      <td>NaN</td>\n",
       "      <td>NaN</td>\n",
       "      <td>2020-01-24</td>\n",
       "    </tr>\n",
       "    <tr>\n",
       "      <th>3</th>\n",
       "      <td>1/25/20</td>\n",
       "      <td>NaN</td>\n",
       "      <td>NaN</td>\n",
       "      <td>NaN</td>\n",
       "      <td>2020-01-25</td>\n",
       "    </tr>\n",
       "    <tr>\n",
       "      <th>4</th>\n",
       "      <td>1/26/20</td>\n",
       "      <td>NaN</td>\n",
       "      <td>NaN</td>\n",
       "      <td>NaN</td>\n",
       "      <td>2020-01-26</td>\n",
       "    </tr>\n",
       "    <tr>\n",
       "      <th>...</th>\n",
       "      <td>...</td>\n",
       "      <td>...</td>\n",
       "      <td>...</td>\n",
       "      <td>...</td>\n",
       "      <td>...</td>\n",
       "    </tr>\n",
       "    <tr>\n",
       "      <th>640</th>\n",
       "      <td>10/23/21</td>\n",
       "      <td>74559.0</td>\n",
       "      <td>604562.0</td>\n",
       "      <td>NaN</td>\n",
       "      <td>2021-10-23</td>\n",
       "    </tr>\n",
       "    <tr>\n",
       "      <th>641</th>\n",
       "      <td>10/24/21</td>\n",
       "      <td>74726.0</td>\n",
       "      <td>604395.0</td>\n",
       "      <td>NaN</td>\n",
       "      <td>2021-10-24</td>\n",
       "    </tr>\n",
       "    <tr>\n",
       "      <th>642</th>\n",
       "      <td>10/25/21</td>\n",
       "      <td>74924.0</td>\n",
       "      <td>604197.0</td>\n",
       "      <td>NaN</td>\n",
       "      <td>2021-10-25</td>\n",
       "    </tr>\n",
       "    <tr>\n",
       "      <th>643</th>\n",
       "      <td>10/26/21</td>\n",
       "      <td>75118.0</td>\n",
       "      <td>604003.0</td>\n",
       "      <td>NaN</td>\n",
       "      <td>2021-10-26</td>\n",
       "    </tr>\n",
       "    <tr>\n",
       "      <th>644</th>\n",
       "      <td>10/27/21</td>\n",
       "      <td>75327.0</td>\n",
       "      <td>603794.0</td>\n",
       "      <td>NaN</td>\n",
       "      <td>2021-10-27</td>\n",
       "    </tr>\n",
       "  </tbody>\n",
       "</table>\n",
       "<p>645 rows × 5 columns</p>\n",
       "</div>"
      ],
      "text/plain": [
       "        index  covid_cases  at_risk_population  infection_rate       date\n",
       "0     1/22/20          NaN                 NaN             NaN 2020-01-22\n",
       "1     1/23/20          NaN                 NaN             NaN 2020-01-23\n",
       "2     1/24/20          NaN                 NaN             NaN 2020-01-24\n",
       "3     1/25/20          NaN                 NaN             NaN 2020-01-25\n",
       "4     1/26/20          NaN                 NaN             NaN 2020-01-26\n",
       "..        ...          ...                 ...             ...        ...\n",
       "640  10/23/21      74559.0            604562.0             NaN 2021-10-23\n",
       "641  10/24/21      74726.0            604395.0             NaN 2021-10-24\n",
       "642  10/25/21      74924.0            604197.0             NaN 2021-10-25\n",
       "643  10/26/21      75118.0            604003.0             NaN 2021-10-26\n",
       "644  10/27/21      75327.0            603794.0             NaN 2021-10-27\n",
       "\n",
       "[645 rows x 5 columns]"
      ]
     },
     "execution_count": 15,
     "metadata": {},
     "output_type": "execute_result"
    }
   ],
   "source": [
    "total_cases"
   ]
  },
  {
   "cell_type": "markdown",
   "metadata": {},
   "source": [
    "### This is the graph for Assignment A4. On this graph, I plotted infection rate since January 2020 and the start of the mask mandate for Bernalillo County, NM."
   ]
  },
  {
   "cell_type": "code",
   "execution_count": 16,
   "metadata": {},
   "outputs": [
    {
     "data": {
      "image/png": "[encoded data removed]",
      "text/plain": [
       "<Figure size 1008x576 with 1 Axes>"
      ]
     },
     "metadata": {
      "needs_background": "light"
     },
     "output_type": "display_data"
    }
   ],
   "source": [
    "fig, ax1 = plt.subplots(figsize=(14,8))\n",
    "color = \"tab:blue\"\n",
    "plt.plot(total_cases.date, total_cases.infection_rate*100, label=\"Infection Rate\", color = color)\n",
    "ax1.tick_params(axis='y', labelcolor=color)\n",
    "plt.grid()\n",
    "plt.xticks(total_cases.date[::60],  rotation=45)\n",
    "plt.ylabel(\"Infection Rate (%)\")\n",
    "plt.xlabel(\"Time\")\n",
    "plt.title(\"Infection and Unemployment Rates in Bernalillo County, New Mexico\")\n",
    "plt.axvline(x=pd.to_datetime(mandate_date, format=\"%m/%d/%Y\"), color='r', linestyle=\"--\")\n",
    "plt.text(pd.to_datetime(mandate_date, format=\"%m/%d/%Y\"), .95, \"Mask Mandate \\nBegins\", fontweight=\"bold\")\n",
    "plt.legend(loc=\"upper right\")\n",
    "plt.savefig('../graph/covid_infection_rate', bbox_inches = 'tight')\n",
    "plt.show()"
   ]
  },
  {
   "cell_type": "markdown",
   "metadata": {
    "pycharm": {
     "name": "#%% md\n"
    }
   },
   "source": [
    "### Now I will read in the employment data."
   ]
  },
  {
   "cell_type": "code",
   "execution_count": 17,
   "metadata": {
    "pycharm": {
     "name": "#%%\n"
    }
   },
   "outputs": [
    {
     "data": {
      "text/html": [
       "<div>\n",
       "<style scoped>\n",
       "    .dataframe tbody tr th:only-of-type {\n",
       "        vertical-align: middle;\n",
       "    }\n",
       "\n",
       "    .dataframe tbody tr th {\n",
       "        vertical-align: top;\n",
       "    }\n",
       "\n",
       "    .dataframe thead th {\n",
       "        text-align: right;\n",
       "    }\n",
       "</style>\n",
       "<table border=\"1\" class=\"dataframe\">\n",
       "  <thead>\n",
       "    <tr style=\"text-align: right;\">\n",
       "      <th></th>\n",
       "      <th>Year</th>\n",
       "      <th>Period</th>\n",
       "      <th>labor force</th>\n",
       "      <th>employment</th>\n",
       "      <th>unemployment</th>\n",
       "      <th>unemployment rate</th>\n",
       "    </tr>\n",
       "  </thead>\n",
       "  <tbody>\n",
       "    <tr>\n",
       "      <th>0</th>\n",
       "      <td>2020</td>\n",
       "      <td>Jan</td>\n",
       "      <td>440332</td>\n",
       "      <td>419430</td>\n",
       "      <td>20902</td>\n",
       "      <td>4.7</td>\n",
       "    </tr>\n",
       "    <tr>\n",
       "      <th>1</th>\n",
       "      <td>2020</td>\n",
       "      <td>Feb</td>\n",
       "      <td>442706</td>\n",
       "      <td>422131</td>\n",
       "      <td>20575</td>\n",
       "      <td>4.6</td>\n",
       "    </tr>\n",
       "    <tr>\n",
       "      <th>2</th>\n",
       "      <td>2020</td>\n",
       "      <td>Mar</td>\n",
       "      <td>437598</td>\n",
       "      <td>415614</td>\n",
       "      <td>21984</td>\n",
       "      <td>5.0</td>\n",
       "    </tr>\n",
       "    <tr>\n",
       "      <th>3</th>\n",
       "      <td>2020</td>\n",
       "      <td>Apr</td>\n",
       "      <td>414535</td>\n",
       "      <td>371514</td>\n",
       "      <td>43021</td>\n",
       "      <td>10.4</td>\n",
       "    </tr>\n",
       "    <tr>\n",
       "      <th>4</th>\n",
       "      <td>2020</td>\n",
       "      <td>May</td>\n",
       "      <td>414464</td>\n",
       "      <td>371736</td>\n",
       "      <td>42728</td>\n",
       "      <td>10.3</td>\n",
       "    </tr>\n",
       "  </tbody>\n",
       "</table>\n",
       "</div>"
      ],
      "text/plain": [
       "   Year Period  labor force  employment  unemployment  unemployment rate\n",
       "0  2020    Jan       440332      419430         20902                4.7\n",
       "1  2020    Feb       442706      422131         20575                4.6\n",
       "2  2020    Mar       437598      415614         21984                5.0\n",
       "3  2020    Apr       414535      371514         43021               10.4\n",
       "4  2020    May       414464      371736         42728               10.3"
      ]
     },
     "execution_count": 17,
     "metadata": {},
     "output_type": "execute_result"
    }
   ],
   "source": [
    "labor_df = pd.read_csv('../raw_data/BLS_Alberquerque.csv')\n",
    "labor_df.head()"
   ]
  },
  {
   "cell_type": "markdown",
   "metadata": {
    "pycharm": {
     "name": "#%%\n"
    }
   },
   "source": [
    "### Employment data is collected monthly and the time is in the Year and Period column. In order to merge with the covid data, I will create a new column named as \"time\" to depict the time."
   ]
  },
  {
   "cell_type": "code",
   "execution_count": 18,
   "metadata": {
    "pycharm": {
     "name": "#%%\n"
    }
   },
   "outputs": [
    {
     "data": {
      "text/html": [
       "<div>\n",
       "<style scoped>\n",
       "    .dataframe tbody tr th:only-of-type {\n",
       "        vertical-align: middle;\n",
       "    }\n",
       "\n",
       "    .dataframe tbody tr th {\n",
       "        vertical-align: top;\n",
       "    }\n",
       "\n",
       "    .dataframe thead th {\n",
       "        text-align: right;\n",
       "    }\n",
       "</style>\n",
       "<table border=\"1\" class=\"dataframe\">\n",
       "  <thead>\n",
       "    <tr style=\"text-align: right;\">\n",
       "      <th></th>\n",
       "      <th>Year</th>\n",
       "      <th>Period</th>\n",
       "      <th>labor force</th>\n",
       "      <th>employment</th>\n",
       "      <th>unemployment</th>\n",
       "      <th>unemployment rate</th>\n",
       "      <th>time</th>\n",
       "    </tr>\n",
       "  </thead>\n",
       "  <tbody>\n",
       "    <tr>\n",
       "      <th>0</th>\n",
       "      <td>2020</td>\n",
       "      <td>Jan</td>\n",
       "      <td>440332</td>\n",
       "      <td>419430</td>\n",
       "      <td>20902</td>\n",
       "      <td>4.7</td>\n",
       "      <td>2020-01-31</td>\n",
       "    </tr>\n",
       "    <tr>\n",
       "      <th>1</th>\n",
       "      <td>2020</td>\n",
       "      <td>Feb</td>\n",
       "      <td>442706</td>\n",
       "      <td>422131</td>\n",
       "      <td>20575</td>\n",
       "      <td>4.6</td>\n",
       "      <td>2020-02-29</td>\n",
       "    </tr>\n",
       "    <tr>\n",
       "      <th>2</th>\n",
       "      <td>2020</td>\n",
       "      <td>Mar</td>\n",
       "      <td>437598</td>\n",
       "      <td>415614</td>\n",
       "      <td>21984</td>\n",
       "      <td>5.0</td>\n",
       "      <td>2020-03-31</td>\n",
       "    </tr>\n",
       "    <tr>\n",
       "      <th>3</th>\n",
       "      <td>2020</td>\n",
       "      <td>Apr</td>\n",
       "      <td>414535</td>\n",
       "      <td>371514</td>\n",
       "      <td>43021</td>\n",
       "      <td>10.4</td>\n",
       "      <td>2020-04-30</td>\n",
       "    </tr>\n",
       "    <tr>\n",
       "      <th>4</th>\n",
       "      <td>2020</td>\n",
       "      <td>May</td>\n",
       "      <td>414464</td>\n",
       "      <td>371736</td>\n",
       "      <td>42728</td>\n",
       "      <td>10.3</td>\n",
       "      <td>2020-05-31</td>\n",
       "    </tr>\n",
       "  </tbody>\n",
       "</table>\n",
       "</div>"
      ],
      "text/plain": [
       "   Year Period  labor force  employment  unemployment  unemployment rate  \\\n",
       "0  2020    Jan       440332      419430         20902                4.7   \n",
       "1  2020    Feb       442706      422131         20575                4.6   \n",
       "2  2020    Mar       437598      415614         21984                5.0   \n",
       "3  2020    Apr       414535      371514         43021               10.4   \n",
       "4  2020    May       414464      371736         42728               10.3   \n",
       "\n",
       "        time  \n",
       "0 2020-01-31  \n",
       "1 2020-02-29  \n",
       "2 2020-03-31  \n",
       "3 2020-04-30  \n",
       "4 2020-05-31  "
      ]
     },
     "execution_count": 18,
     "metadata": {},
     "output_type": "execute_result"
    }
   ],
   "source": [
    "labor_df['time'] = labor_df['Period'] + \"/\" + labor_df['Year'].astype(str)\n",
    "labor_df.time = pd.to_datetime(labor_df.time, format='%b/%Y') + pd.tseries.offsets.MonthEnd(1)\n",
    "labor_df.head()"
   ]
  },
  {
   "cell_type": "markdown",
   "metadata": {},
   "source": [
    "### One of the assumptions of Granger Causality test is stationarity. Covid and employment data are not stationary but I will find the first discrete difference, i.e. the difference between consecurtive periods, of the time series, the data would be stationary. \n",
    "\n",
    "### As the employment data is monthly, I will also calculate monthly new covid cases data by subtracting previous month's total cases from the current month's. After the new monthly covid cases are calculated, I will take the first discrete difference of the time series to ensure staionarity."
   ]
  },
  {
   "cell_type": "code",
   "execution_count": 19,
   "metadata": {
    "pycharm": {
     "name": "#%%\n"
    }
   },
   "outputs": [
    {
     "data": {
      "text/plain": [
       "date\n",
       "2020-02-29      NaN\n",
       "2020-03-31     82.0\n",
       "2020-04-30    635.0\n",
       "2020-05-31    699.0\n",
       "2020-06-30    604.0\n",
       "Name: covid_cases, dtype: float64"
      ]
     },
     "execution_count": 19,
     "metadata": {},
     "output_type": "execute_result"
    }
   ],
   "source": [
    "covid = total_cases.set_index(\"date\")\n",
    "covid_monthly_new_cases = covid.loc[labor_df.time[1:]]['covid_cases'].diff()\n",
    "covid_monthly_new_cases.head()"
   ]
  },
  {
   "cell_type": "markdown",
   "metadata": {},
   "source": [
    "### We will fill the first month's (Feb 2020) covid cases as 0."
   ]
  },
  {
   "cell_type": "code",
   "execution_count": 20,
   "metadata": {},
   "outputs": [
    {
     "data": {
      "text/plain": [
       "date\n",
       "2020-02-29      0.0\n",
       "2020-03-31     82.0\n",
       "2020-04-30    635.0\n",
       "2020-05-31    699.0\n",
       "2020-06-30    604.0\n",
       "Name: covid_cases, dtype: float64"
      ]
     },
     "execution_count": 20,
     "metadata": {},
     "output_type": "execute_result"
    }
   ],
   "source": [
    "covid_monthly_new_cases = covid_monthly_new_cases.fillna(0)\n",
    "covid_monthly_new_cases.head()"
   ]
  },
  {
   "cell_type": "code",
   "execution_count": 21,
   "metadata": {},
   "outputs": [
    {
     "data": {
      "text/plain": [
       "date\n",
       "2020-02-29       0.0\n",
       "2020-03-31      82.0\n",
       "2020-04-30     553.0\n",
       "2020-05-31      64.0\n",
       "2020-06-30     -95.0\n",
       "2020-07-31    1916.0\n",
       "2020-08-31   -1325.0\n",
       "2020-09-30    -468.0\n",
       "2020-10-31    3723.0\n",
       "2020-11-30    9673.0\n",
       "2020-12-31     655.0\n",
       "2021-01-31   -6079.0\n",
       "2021-02-28   -4973.0\n",
       "2021-03-31   -1460.0\n",
       "2021-04-30    -165.0\n",
       "2021-05-31    -328.0\n",
       "2021-06-30   -1086.0\n",
       "2021-07-31     646.0\n",
       "2021-08-31    3783.0\n",
       "2021-09-30      -6.0\n",
       "Name: covid_monthly_infection_diff, dtype: float64"
      ]
     },
     "execution_count": 21,
     "metadata": {},
     "output_type": "execute_result"
    }
   ],
   "source": [
    "covid_monthly_infection_diff = covid_monthly_new_cases.diff().fillna(0).rename(\"covid_monthly_infection_diff\")\n",
    "covid_monthly_infection_diff"
   ]
  },
  {
   "cell_type": "markdown",
   "metadata": {},
   "source": [
    "### I will now treat employment data for stationarity by calculating the marginal monthly difference in the number of the unemployed and the labor force."
   ]
  },
  {
   "cell_type": "code",
   "execution_count": 22,
   "metadata": {},
   "outputs": [],
   "source": [
    "labor_df['unemployment_diff'] = labor_df[\"unemployment\"].diff()\n",
    "labor_df['labor_force_diff'] = labor_df['labor force'].diff()"
   ]
  },
  {
   "cell_type": "code",
   "execution_count": 23,
   "metadata": {
    "pycharm": {
     "name": "#%%\n"
    }
   },
   "outputs": [],
   "source": [
    "df_test = labor_df.merge(covid_monthly_infection_diff, right_on='date', left_on=\"time\").dropna()"
   ]
  },
  {
   "cell_type": "code",
   "execution_count": 29,
   "metadata": {},
   "outputs": [],
   "source": [
    "df_test.to_csv('../cleaned_data/final_data_testing.csv')"
   ]
  },
  {
   "cell_type": "markdown",
   "metadata": {},
   "source": [
    "### Now the data is ready for the Granger Causality test. Granger Causality test code is sourced [here](https://rishi-a.github.io/2020/05/25/granger-causality.html).\n"
   ]
  },
  {
   "cell_type": "code",
   "execution_count": 24,
   "metadata": {
    "pycharm": {
     "name": "#%%\n"
    }
   },
   "outputs": [],
   "source": [
    "from statsmodels.tsa.stattools import grangercausalitytests\n",
    "\n",
    "maxlag = 5\n",
    "test = 'ssr_chi2test'\n",
    "\n",
    "def grangers_causation_matrix(data, variables, test='ssr_chi2test', verbose=False):    \n",
    "    \"\"\"Check Granger Causality of all possible combinations of the Time series.\n",
    "    The rows are the response variable, columns are predictors. The values in the table \n",
    "    are the P-Values. P-Values lesser than the significance level (0.05), implies \n",
    "    the Null Hypothesis that the coefficients of the corresponding past values is \n",
    "    zero, that is, the X does not cause Y can be rejected.\n",
    "\n",
    "    data      : pandas dataframe containing the time series variables\n",
    "    variables : list containing names of the time series variables.\n",
    "    \"\"\"\n",
    "    df = pd.DataFrame(np.zeros((len(variables), len(variables))), columns=variables, index=variables)\n",
    "    for c in df.columns:\n",
    "        for r in df.index:\n",
    "            test_result = grangercausalitytests(data[[r, c]], maxlag=maxlag, verbose=False)\n",
    "            p_values = [round(test_result[i+1][0][test][1],4) for i in range(maxlag)]\n",
    "            if verbose: print(f'Y = {r}, X = {c}, P Values = {p_values}')\n",
    "            min_p_value = np.min(p_values)\n",
    "            df.loc[r, c] = min_p_value\n",
    "    df.columns = [var + '_x' for var in variables]\n",
    "    df.index = [var + '_y' for var in variables]\n",
    "    return df\n"
   ]
  },
  {
   "cell_type": "code",
   "execution_count": 25,
   "metadata": {},
   "outputs": [
    {
     "data": {
      "text/html": [
       "<div>\n",
       "<style scoped>\n",
       "    .dataframe tbody tr th:only-of-type {\n",
       "        vertical-align: middle;\n",
       "    }\n",
       "\n",
       "    .dataframe tbody tr th {\n",
       "        vertical-align: top;\n",
       "    }\n",
       "\n",
       "    .dataframe thead th {\n",
       "        text-align: right;\n",
       "    }\n",
       "</style>\n",
       "<table border=\"1\" class=\"dataframe\">\n",
       "  <thead>\n",
       "    <tr style=\"text-align: right;\">\n",
       "      <th></th>\n",
       "      <th>labor_force_diff_x</th>\n",
       "      <th>unemployment_diff_x</th>\n",
       "      <th>covid_monthly_infection_diff_x</th>\n",
       "    </tr>\n",
       "  </thead>\n",
       "  <tbody>\n",
       "    <tr>\n",
       "      <th>labor_force_diff_y</th>\n",
       "      <td>1.0</td>\n",
       "      <td>0.0000</td>\n",
       "      <td>0.1474</td>\n",
       "    </tr>\n",
       "    <tr>\n",
       "      <th>unemployment_diff_y</th>\n",
       "      <td>0.0</td>\n",
       "      <td>1.0000</td>\n",
       "      <td>0.6098</td>\n",
       "    </tr>\n",
       "    <tr>\n",
       "      <th>covid_monthly_infection_diff_y</th>\n",
       "      <td>0.0</td>\n",
       "      <td>0.0079</td>\n",
       "      <td>1.0000</td>\n",
       "    </tr>\n",
       "  </tbody>\n",
       "</table>\n",
       "</div>"
      ],
      "text/plain": [
       "                                labor_force_diff_x  unemployment_diff_x  \\\n",
       "labor_force_diff_y                             1.0               0.0000   \n",
       "unemployment_diff_y                            0.0               1.0000   \n",
       "covid_monthly_infection_diff_y                 0.0               0.0079   \n",
       "\n",
       "                                covid_monthly_infection_diff_x  \n",
       "labor_force_diff_y                                      0.1474  \n",
       "unemployment_diff_y                                     0.6098  \n",
       "covid_monthly_infection_diff_y                          1.0000  "
      ]
     },
     "execution_count": 25,
     "metadata": {},
     "output_type": "execute_result"
    }
   ],
   "source": [
    "grangers_causation_matrix(df_test, variables = \n",
    "                          ['labor_force_diff', 'unemployment_diff', \"covid_monthly_infection_diff\"])"
   ]
  },
  {
   "cell_type": "markdown",
   "metadata": {},
   "source": [
    "### The test statistics seem counterintuitive and I hope to find some answers by plotting the labor force and the unemployment rate."
   ]
  },
  {
   "cell_type": "code",
   "execution_count": 26,
   "metadata": {
    "pycharm": {
     "name": "#%%\n"
    }
   },
   "outputs": [
    {
     "data": {
      "image/png": "[encoded data removed]",
      "text/plain": [
       "<Figure size 1008x576 with 2 Axes>"
      ]
     },
     "metadata": {
      "needs_background": "light"
     },
     "output_type": "display_data"
    }
   ],
   "source": [
    "fig, ax1 = plt.subplots(figsize=(14,8))\n",
    "color = \"tab:blue\"\n",
    "lns1 = plt.plot(total_cases.date, total_cases.infection_rate*100, label=\"Infection Rate\", color = color)\n",
    "ax1.tick_params(axis='y', labelcolor=color)\n",
    "plt.grid()\n",
    "plt.xticks(total_cases.date[::60],  rotation=45)\n",
    "plt.ylabel(\"Infection Rate (%)\", color = color)\n",
    "plt.xlabel(\"Time\")\n",
    "plt.title(\"Infection and Unemployment Rates in Bernalillo County, New Mexico\")\n",
    "plt.axvline(x=pd.to_datetime(mandate_date, format=\"%m/%d/%Y\"), color='r', linestyle=\"--\")\n",
    "plt.text(pd.to_datetime(mandate_date, format=\"%m/%d/%Y\"), .95, \"Mask Mandate \\nBegins\", fontweight=\"bold\")\n",
    "\n",
    "ax2 = ax1.twinx()  # instantiate a second axes that shares the same x-axis\n",
    "\n",
    "color = 'tab:green'\n",
    "ax2.set_ylabel('Unemloyment Rate (%)', color=color)  # we already handled the x-label with ax1\n",
    "lns2 = ax2.plot(pd.to_datetime(labor_df[\"time\"]), labor_df[\"unemployment rate\"], \n",
    "                color=color, linestyle=\"dashed\", label=\"Unemployment Rate\")\n",
    "ax2.tick_params(axis='y', labelcolor=color)\n",
    "\n",
    "lns = lns1+lns2\n",
    "labs = [l.get_label() for l in lns]\n",
    "plt.legend(lns,labs,loc=\"upper right\")\n",
    "fig.tight_layout()  # otherwise the right y-label is slightly clipped\n",
    "plt.savefig('../graph/uneployment', bbox_inches = 'tight')\n",
    "plt.show()"
   ]
  },
  {
   "cell_type": "code",
   "execution_count": 27,
   "metadata": {},
   "outputs": [
    {
     "data": {
      "image/png": "[encoded data removed]",
      "text/plain": [
       "<Figure size 1008x576 with 2 Axes>"
      ]
     },
     "metadata": {
      "needs_background": "light"
     },
     "output_type": "display_data"
    }
   ],
   "source": [
    "fig, ax1 = plt.subplots(figsize=(14,8))\n",
    "color = \"tab:blue\"\n",
    "lns1 = plt.plot(total_cases.date, total_cases.infection_rate*100, label=\"Infection Rate\", color = color)\n",
    "ax1.tick_params(axis='y', labelcolor=color)\n",
    "plt.grid()\n",
    "plt.xticks(total_cases.date[::60],  rotation=45)\n",
    "plt.ylabel(\"Infection Rate (%)\", color = color)\n",
    "plt.xlabel(\"Time\")\n",
    "plt.title(\"Infection and Labor Force in Bernalillo County, New Mexico\")\n",
    "plt.axvline(x=pd.to_datetime(mandate_date, format=\"%m/%d/%Y\"), color='r', linestyle=\"--\")\n",
    "plt.text(pd.to_datetime(mandate_date, format=\"%m/%d/%Y\"), .95, \"Mask Mandate \\nBegins\", fontweight=\"bold\")\n",
    "\n",
    "ax2 = ax1.twinx()  # instantiate a second axes that shares the same x-axis\n",
    "\n",
    "color = 'tab:green'\n",
    "ax2.set_ylabel('Labor Force', color=color)  # we already handled the x-label with ax1\n",
    "lns2 = ax2.plot(pd.to_datetime(labor_df[\"time\"]), labor_df[\"labor force\"], \n",
    "                color=color, linestyle=\"dashed\", label=\"Labor Force\")\n",
    "ax2.tick_params(axis='y', labelcolor=color)\n",
    "\n",
    "lns = lns1+lns2\n",
    "labs = [l.get_label() for l in lns]\n",
    "plt.legend(lns,labs,loc=\"upper right\")\n",
    "fig.tight_layout()  # otherwise the right y-label is slightly clipped\n",
    "plt.savefig('../graph/labor_force', bbox_inches = 'tight')\n",
    "plt.show()"
   ]
  },
  {
   "cell_type": "code",
   "execution_count": 28,
   "metadata": {},
   "outputs": [
    {
     "data": {
      "text/html": [
       "<div>\n",
       "<style scoped>\n",
       "    .dataframe tbody tr th:only-of-type {\n",
       "        vertical-align: middle;\n",
       "    }\n",
       "\n",
       "    .dataframe tbody tr th {\n",
       "        vertical-align: top;\n",
       "    }\n",
       "\n",
       "    .dataframe thead th {\n",
       "        text-align: right;\n",
       "    }\n",
       "</style>\n",
       "<table border=\"1\" class=\"dataframe\">\n",
       "  <thead>\n",
       "    <tr style=\"text-align: right;\">\n",
       "      <th></th>\n",
       "      <th>Year</th>\n",
       "      <th>Period</th>\n",
       "      <th>labor force</th>\n",
       "      <th>employment</th>\n",
       "      <th>unemployment</th>\n",
       "      <th>unemployment rate</th>\n",
       "      <th>time</th>\n",
       "      <th>unemployment_diff</th>\n",
       "      <th>labor_force_diff</th>\n",
       "      <th>covid_monthly_infection_diff</th>\n",
       "    </tr>\n",
       "  </thead>\n",
       "  <tbody>\n",
       "    <tr>\n",
       "      <th>0</th>\n",
       "      <td>2020</td>\n",
       "      <td>Feb</td>\n",
       "      <td>442706</td>\n",
       "      <td>422131</td>\n",
       "      <td>20575</td>\n",
       "      <td>4.6</td>\n",
       "      <td>2020-02-29</td>\n",
       "      <td>-327.0</td>\n",
       "      <td>2374.0</td>\n",
       "      <td>0.0</td>\n",
       "    </tr>\n",
       "    <tr>\n",
       "      <th>1</th>\n",
       "      <td>2020</td>\n",
       "      <td>Mar</td>\n",
       "      <td>437598</td>\n",
       "      <td>415614</td>\n",
       "      <td>21984</td>\n",
       "      <td>5.0</td>\n",
       "      <td>2020-03-31</td>\n",
       "      <td>1409.0</td>\n",
       "      <td>-5108.0</td>\n",
       "      <td>82.0</td>\n",
       "    </tr>\n",
       "    <tr>\n",
       "      <th>2</th>\n",
       "      <td>2020</td>\n",
       "      <td>Apr</td>\n",
       "      <td>414535</td>\n",
       "      <td>371514</td>\n",
       "      <td>43021</td>\n",
       "      <td>10.4</td>\n",
       "      <td>2020-04-30</td>\n",
       "      <td>21037.0</td>\n",
       "      <td>-23063.0</td>\n",
       "      <td>553.0</td>\n",
       "    </tr>\n",
       "    <tr>\n",
       "      <th>3</th>\n",
       "      <td>2020</td>\n",
       "      <td>May</td>\n",
       "      <td>414464</td>\n",
       "      <td>371736</td>\n",
       "      <td>42728</td>\n",
       "      <td>10.3</td>\n",
       "      <td>2020-05-31</td>\n",
       "      <td>-293.0</td>\n",
       "      <td>-71.0</td>\n",
       "      <td>64.0</td>\n",
       "    </tr>\n",
       "    <tr>\n",
       "      <th>4</th>\n",
       "      <td>2020</td>\n",
       "      <td>Jun</td>\n",
       "      <td>420489</td>\n",
       "      <td>378337</td>\n",
       "      <td>42152</td>\n",
       "      <td>10.0</td>\n",
       "      <td>2020-06-30</td>\n",
       "      <td>-576.0</td>\n",
       "      <td>6025.0</td>\n",
       "      <td>-95.0</td>\n",
       "    </tr>\n",
       "    <tr>\n",
       "      <th>5</th>\n",
       "      <td>2020</td>\n",
       "      <td>Jul</td>\n",
       "      <td>435095</td>\n",
       "      <td>378360</td>\n",
       "      <td>56735</td>\n",
       "      <td>13.0</td>\n",
       "      <td>2020-07-31</td>\n",
       "      <td>14583.0</td>\n",
       "      <td>14606.0</td>\n",
       "      <td>1916.0</td>\n",
       "    </tr>\n",
       "    <tr>\n",
       "      <th>6</th>\n",
       "      <td>2020</td>\n",
       "      <td>Aug</td>\n",
       "      <td>423306</td>\n",
       "      <td>385129</td>\n",
       "      <td>38177</td>\n",
       "      <td>9.0</td>\n",
       "      <td>2020-08-31</td>\n",
       "      <td>-18558.0</td>\n",
       "      <td>-11789.0</td>\n",
       "      <td>-1325.0</td>\n",
       "    </tr>\n",
       "    <tr>\n",
       "      <th>7</th>\n",
       "      <td>2020</td>\n",
       "      <td>Sep</td>\n",
       "      <td>444293</td>\n",
       "      <td>407378</td>\n",
       "      <td>36915</td>\n",
       "      <td>8.3</td>\n",
       "      <td>2020-09-30</td>\n",
       "      <td>-1262.0</td>\n",
       "      <td>20987.0</td>\n",
       "      <td>-468.0</td>\n",
       "    </tr>\n",
       "    <tr>\n",
       "      <th>8</th>\n",
       "      <td>2020</td>\n",
       "      <td>Oct</td>\n",
       "      <td>438584</td>\n",
       "      <td>404787</td>\n",
       "      <td>33797</td>\n",
       "      <td>7.7</td>\n",
       "      <td>2020-10-31</td>\n",
       "      <td>-3118.0</td>\n",
       "      <td>-5709.0</td>\n",
       "      <td>3723.0</td>\n",
       "    </tr>\n",
       "    <tr>\n",
       "      <th>9</th>\n",
       "      <td>2020</td>\n",
       "      <td>Nov</td>\n",
       "      <td>438332</td>\n",
       "      <td>404466</td>\n",
       "      <td>33866</td>\n",
       "      <td>7.7</td>\n",
       "      <td>2020-11-30</td>\n",
       "      <td>69.0</td>\n",
       "      <td>-252.0</td>\n",
       "      <td>9673.0</td>\n",
       "    </tr>\n",
       "    <tr>\n",
       "      <th>10</th>\n",
       "      <td>2020</td>\n",
       "      <td>Dec</td>\n",
       "      <td>440283</td>\n",
       "      <td>404900</td>\n",
       "      <td>35383</td>\n",
       "      <td>8.0</td>\n",
       "      <td>2020-12-31</td>\n",
       "      <td>1517.0</td>\n",
       "      <td>1951.0</td>\n",
       "      <td>655.0</td>\n",
       "    </tr>\n",
       "    <tr>\n",
       "      <th>11</th>\n",
       "      <td>2021</td>\n",
       "      <td>Jan</td>\n",
       "      <td>437375</td>\n",
       "      <td>399582</td>\n",
       "      <td>37793</td>\n",
       "      <td>8.6</td>\n",
       "      <td>2021-01-31</td>\n",
       "      <td>2410.0</td>\n",
       "      <td>-2908.0</td>\n",
       "      <td>-6079.0</td>\n",
       "    </tr>\n",
       "    <tr>\n",
       "      <th>12</th>\n",
       "      <td>2021</td>\n",
       "      <td>Feb</td>\n",
       "      <td>438267</td>\n",
       "      <td>404206</td>\n",
       "      <td>34061</td>\n",
       "      <td>7.8</td>\n",
       "      <td>2021-02-28</td>\n",
       "      <td>-3732.0</td>\n",
       "      <td>892.0</td>\n",
       "      <td>-4973.0</td>\n",
       "    </tr>\n",
       "    <tr>\n",
       "      <th>13</th>\n",
       "      <td>2021</td>\n",
       "      <td>Mar</td>\n",
       "      <td>434046</td>\n",
       "      <td>401820</td>\n",
       "      <td>32226</td>\n",
       "      <td>7.4</td>\n",
       "      <td>2021-03-31</td>\n",
       "      <td>-1835.0</td>\n",
       "      <td>-4221.0</td>\n",
       "      <td>-1460.0</td>\n",
       "    </tr>\n",
       "    <tr>\n",
       "      <th>14</th>\n",
       "      <td>2021</td>\n",
       "      <td>Apr</td>\n",
       "      <td>435564</td>\n",
       "      <td>404317</td>\n",
       "      <td>31247</td>\n",
       "      <td>7.2</td>\n",
       "      <td>2021-04-30</td>\n",
       "      <td>-979.0</td>\n",
       "      <td>1518.0</td>\n",
       "      <td>-165.0</td>\n",
       "    </tr>\n",
       "    <tr>\n",
       "      <th>15</th>\n",
       "      <td>2021</td>\n",
       "      <td>May</td>\n",
       "      <td>431620</td>\n",
       "      <td>401310</td>\n",
       "      <td>30310</td>\n",
       "      <td>7.0</td>\n",
       "      <td>2021-05-31</td>\n",
       "      <td>-937.0</td>\n",
       "      <td>-3944.0</td>\n",
       "      <td>-328.0</td>\n",
       "    </tr>\n",
       "    <tr>\n",
       "      <th>16</th>\n",
       "      <td>2021</td>\n",
       "      <td>Jun</td>\n",
       "      <td>434765</td>\n",
       "      <td>399810</td>\n",
       "      <td>34955</td>\n",
       "      <td>8.0</td>\n",
       "      <td>2021-06-30</td>\n",
       "      <td>4645.0</td>\n",
       "      <td>3145.0</td>\n",
       "      <td>-1086.0</td>\n",
       "    </tr>\n",
       "    <tr>\n",
       "      <th>17</th>\n",
       "      <td>2021</td>\n",
       "      <td>Jul</td>\n",
       "      <td>436171</td>\n",
       "      <td>403850</td>\n",
       "      <td>32321</td>\n",
       "      <td>7.4</td>\n",
       "      <td>2021-07-31</td>\n",
       "      <td>-2634.0</td>\n",
       "      <td>1406.0</td>\n",
       "      <td>646.0</td>\n",
       "    </tr>\n",
       "    <tr>\n",
       "      <th>18</th>\n",
       "      <td>2021</td>\n",
       "      <td>Aug</td>\n",
       "      <td>434561</td>\n",
       "      <td>408366</td>\n",
       "      <td>26195</td>\n",
       "      <td>6.0</td>\n",
       "      <td>2021-08-31</td>\n",
       "      <td>-6126.0</td>\n",
       "      <td>-1610.0</td>\n",
       "      <td>3783.0</td>\n",
       "    </tr>\n",
       "    <tr>\n",
       "      <th>19</th>\n",
       "      <td>2021</td>\n",
       "      <td>Sep</td>\n",
       "      <td>431408</td>\n",
       "      <td>407606</td>\n",
       "      <td>23802</td>\n",
       "      <td>5.5</td>\n",
       "      <td>2021-09-30</td>\n",
       "      <td>-2393.0</td>\n",
       "      <td>-3153.0</td>\n",
       "      <td>-6.0</td>\n",
       "    </tr>\n",
       "  </tbody>\n",
       "</table>\n",
       "</div>"
      ],
      "text/plain": [
       "    Year Period  labor force  employment  unemployment  unemployment rate  \\\n",
       "0   2020    Feb       442706      422131         20575                4.6   \n",
       "1   2020    Mar       437598      415614         21984                5.0   \n",
       "2   2020    Apr       414535      371514         43021               10.4   \n",
       "3   2020    May       414464      371736         42728               10.3   \n",
       "4   2020    Jun       420489      378337         42152               10.0   \n",
       "5   2020    Jul       435095      378360         56735               13.0   \n",
       "6   2020    Aug       423306      385129         38177                9.0   \n",
       "7   2020    Sep       444293      407378         36915                8.3   \n",
       "8   2020    Oct       438584      404787         33797                7.7   \n",
       "9   2020    Nov       438332      404466         33866                7.7   \n",
       "10  2020    Dec       440283      404900         35383                8.0   \n",
       "11  2021    Jan       437375      399582         37793                8.6   \n",
       "12  2021    Feb       438267      404206         34061                7.8   \n",
       "13  2021    Mar       434046      401820         32226                7.4   \n",
       "14  2021    Apr       435564      404317         31247                7.2   \n",
       "15  2021    May       431620      401310         30310                7.0   \n",
       "16  2021    Jun       434765      399810         34955                8.0   \n",
       "17  2021    Jul       436171      403850         32321                7.4   \n",
       "18  2021    Aug       434561      408366         26195                6.0   \n",
       "19  2021    Sep       431408      407606         23802                5.5   \n",
       "\n",
       "         time  unemployment_diff  labor_force_diff  \\\n",
       "0  2020-02-29             -327.0            2374.0   \n",
       "1  2020-03-31             1409.0           -5108.0   \n",
       "2  2020-04-30            21037.0          -23063.0   \n",
       "3  2020-05-31             -293.0             -71.0   \n",
       "4  2020-06-30             -576.0            6025.0   \n",
       "5  2020-07-31            14583.0           14606.0   \n",
       "6  2020-08-31           -18558.0          -11789.0   \n",
       "7  2020-09-30            -1262.0           20987.0   \n",
       "8  2020-10-31            -3118.0           -5709.0   \n",
       "9  2020-11-30               69.0            -252.0   \n",
       "10 2020-12-31             1517.0            1951.0   \n",
       "11 2021-01-31             2410.0           -2908.0   \n",
       "12 2021-02-28            -3732.0             892.0   \n",
       "13 2021-03-31            -1835.0           -4221.0   \n",
       "14 2021-04-30             -979.0            1518.0   \n",
       "15 2021-05-31             -937.0           -3944.0   \n",
       "16 2021-06-30             4645.0            3145.0   \n",
       "17 2021-07-31            -2634.0            1406.0   \n",
       "18 2021-08-31            -6126.0           -1610.0   \n",
       "19 2021-09-30            -2393.0           -3153.0   \n",
       "\n",
       "    covid_monthly_infection_diff  \n",
       "0                            0.0  \n",
       "1                           82.0  \n",
       "2                          553.0  \n",
       "3                           64.0  \n",
       "4                          -95.0  \n",
       "5                         1916.0  \n",
       "6                        -1325.0  \n",
       "7                         -468.0  \n",
       "8                         3723.0  \n",
       "9                         9673.0  \n",
       "10                         655.0  \n",
       "11                       -6079.0  \n",
       "12                       -4973.0  \n",
       "13                       -1460.0  \n",
       "14                        -165.0  \n",
       "15                        -328.0  \n",
       "16                       -1086.0  \n",
       "17                         646.0  \n",
       "18                        3783.0  \n",
       "19                          -6.0  "
      ]
     },
     "execution_count": 28,
     "metadata": {},
     "output_type": "execute_result"
    }
   ],
   "source": [
    "df_test"
   ]
  },
  {
   "cell_type": "code",
   "execution_count": null,
   "metadata": {},
   "outputs": [],
   "source": []
  }
 ],
 "metadata": {
  "kernelspec": {
   "display_name": "Python 3 (ipykernel)",
   "language": "python",
   "name": "python3"
  },
  "language_info": {
   "codemirror_mode": {
    "name": "ipython",
    "version": 3
   },
   "file_extension": ".py",
   "mimetype": "text/x-python",
   "name": "python",
   "nbconvert_exporter": "python",
   "pygments_lexer": "ipython3",
   "version": "3.8.12"
  }
 },
 "nbformat": 4,
 "nbformat_minor": 1
}
